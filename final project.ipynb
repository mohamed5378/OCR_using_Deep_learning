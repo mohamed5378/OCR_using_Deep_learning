{
 "cells": [
  {
   "cell_type": "code",
   "execution_count": 1,
   "id": "554ce9b6-f608-44e1-8e33-32683a0f3f7c",
   "metadata": {},
   "outputs": [
    {
     "name": "stdout",
     "output_type": "stream",
     "text": [
      "Using device: cuda\n"
     ]
    },
    {
     "data": {
      "application/vnd.jupyter.widget-view+json": {
       "model_id": "73404d53889a4aa5ac814d9cd0b8af42",
       "version_major": 2,
       "version_minor": 0
      },
      "text/plain": [
       "  0%|          | 0/6482 [00:00<?, ?it/s]"
      ]
     },
     "metadata": {},
     "output_type": "display_data"
    }
   ],
   "source": [
    "import os\n",
    "import torch\n",
    "import torch.nn as nn\n",
    "import torch.optim as optim\n",
    "import torch.nn.functional as F\n",
    "from torch.utils.data import DataLoader, Dataset\n",
    "import torchvision.transforms as transforms\n",
    "\n",
    "from PIL import Image\n",
    "from tqdm.notebook import tqdm\n",
    "from datetime import datetime\n",
    "from datasets import load_dataset\n",
    "from torch.cuda.amp import GradScaler, autocast\n",
    "\n",
    "device = \"cuda\" if torch.cuda.is_available() else \"cpu\"\n",
    "print(f\"Using device: {device}\")\n",
    "\n",
    "dataset = load_dataset(\"Teklia/IAM-line\")[\"train\"]\n",
    "os.makedirs(\"temp_images\", exist_ok=True)\n",
    "\n",
    "data, vocab, max_len = [], set(), 0\n",
    "for idx, example in tqdm(enumerate(dataset), total=len(dataset)):\n",
    "    image = example[\"image\"]\n",
    "    label = example[\"text\"]\n",
    "    image_path = os.path.join(\"temp_images\", f\"{idx}.png\")\n",
    "    image.save(image_path)\n",
    "    vocab.update(label)\n",
    "    max_len = max(max_len, len(label))\n",
    "    data.append([image_path, label])\n"
   ]
  },
  {
   "cell_type": "code",
   "execution_count": 2,
   "id": "462642bf-b150-4124-a69b-8dc348ab4751",
   "metadata": {},
   "outputs": [],
   "source": [
    "class ModelConfigs:\n",
    "    def __init__(self):\n",
    "        timestamp = datetime.strftime(datetime.now(), \"%Y%m%d%H%M\")\n",
    "        self.model_path = os.path.join(\"Models/CRNN\", timestamp)\n",
    "        os.makedirs(self.model_path, exist_ok=True)\n",
    "        self.vocab = \"\".join(sorted(vocab))\n",
    "        self.height = 64\n",
    "        self.max_width = 2048\n",
    "        self.max_text_length = max_len\n",
    "        self.batch_size = 4\n",
    "        self.learning_rate = 0.0003\n",
    "        self.train_epochs = 50\n",
    "        self.device = device\n",
    "\n",
    "configs = ModelConfigs()\n"
   ]
  },
  {
   "cell_type": "code",
   "execution_count": 3,
   "id": "31748f9b-d9db-4880-a795-2a0bf63bad44",
   "metadata": {},
   "outputs": [],
   "source": [
    "class ResizeKeepAspect:\n",
    "    def __init__(self, height, max_width=None):\n",
    "        self.height = height\n",
    "        self.max_width = max_width\n",
    "\n",
    "    def __call__(self, img):\n",
    "        w, h = img.size\n",
    "        new_w = min(int(w * (self.height / h)), self.max_width)\n",
    "        return img.resize((new_w, self.height), Image.BILINEAR)\n",
    "\n",
    "augmentation = transforms.RandomApply([\n",
    "    transforms.RandomRotation(5),\n",
    "    transforms.RandomPerspective(0.2, p=1.0),\n",
    "    transforms.ColorJitter(0.3, 0.3)\n",
    "], p=0.5)\n",
    "\n",
    "transform = transforms.Compose([\n",
    "    transforms.Grayscale(1),\n",
    "    augmentation,\n",
    "    ResizeKeepAspect(configs.height, configs.max_width),\n",
    "    transforms.ToTensor(),\n",
    "])\n",
    "\n",
    "class IAMDataset(Dataset):\n",
    "    def __init__(self, data, vocab, transform=None):\n",
    "        self.data = data\n",
    "        self.vocab = vocab\n",
    "        self.transform = transform\n",
    "        self.char_to_idx = {ch: i for i, ch in enumerate(vocab)}\n",
    "\n",
    "    def __len__(self):\n",
    "        return len(self.data)\n",
    "\n",
    "    def __getitem__(self, idx):\n",
    "        image_path, text = self.data[idx]\n",
    "        image = Image.open(image_path).convert(\"L\")\n",
    "        if self.transform:\n",
    "            image = self.transform(image)\n",
    "        label = torch.tensor([self.char_to_idx[ch] for ch in text], dtype=torch.long)\n",
    "        return image, label, len(label)\n",
    "\n",
    "def collate_fn(batch):\n",
    "    images, labels, lengths = zip(*batch)\n",
    "    max_w = max(img.shape[2] for img in images)\n",
    "    images = [F.pad(img, (0, max_w - img.shape[2])) for img in images]\n",
    "    images = torch.stack(images)\n",
    "    max_len = max(lengths)\n",
    "    padded_labels = torch.full((len(labels), max_len), -1, dtype=torch.long)\n",
    "    for i, label in enumerate(labels):\n",
    "        padded_labels[i, :len(label)] = label\n",
    "    return images, padded_labels, torch.tensor(lengths)\n"
   ]
  },
  {
   "cell_type": "code",
   "execution_count": 4,
   "id": "1c052ed3-2e93-45dc-a568-9b8d98de71ea",
   "metadata": {},
   "outputs": [
    {
     "name": "stderr",
     "output_type": "stream",
     "text": [
      "C:\\Users\\mh738\\anaconda3\\envs\\gpu\\Lib\\site-packages\\torch\\optim\\lr_scheduler.py:62: UserWarning: The verbose parameter is deprecated. Please use get_last_lr() to access the learning rate.\n",
      "  warnings.warn(\n",
      "C:\\Users\\mh738\\AppData\\Local\\Temp\\ipykernel_14152\\1423130349.py:33: FutureWarning: `torch.cuda.amp.GradScaler(args...)` is deprecated. Please use `torch.amp.GradScaler('cuda', args...)` instead.\n",
      "  scaler = GradScaler()\n"
     ]
    }
   ],
   "source": [
    "split = int(0.9 * len(data))\n",
    "train_loader = DataLoader(IAMDataset(data[:split], configs.vocab, transform), batch_size=configs.batch_size, shuffle=True, collate_fn=collate_fn)\n",
    "val_loader = DataLoader(IAMDataset(data[split:], configs.vocab, transform), batch_size=configs.batch_size, shuffle=False, collate_fn=collate_fn)\n",
    "\n",
    "class CRNN(nn.Module):\n",
    "    def __init__(self, vocab_size, hidden=512, dropout=0.3):\n",
    "        super().__init__()\n",
    "        self.conv = nn.Sequential(\n",
    "            nn.Conv2d(1, 64, 3, padding=1), nn.BatchNorm2d(64), nn.ReLU(), nn.Dropout(dropout),\n",
    "            nn.Conv2d(64, 64, 3, padding=1), nn.BatchNorm2d(64), nn.ReLU(), nn.Dropout(dropout),\n",
    "            nn.MaxPool2d(2, 2),\n",
    "            nn.Conv2d(64, 128, 3, padding=1), nn.BatchNorm2d(128), nn.ReLU(), nn.Dropout(dropout),\n",
    "            nn.Conv2d(128, 128, 3, padding=1), nn.BatchNorm2d(128), nn.ReLU(), nn.Dropout(dropout),\n",
    "            nn.MaxPool2d(2, 2),\n",
    "            nn.Conv2d(128, 256, 3, padding=1), nn.BatchNorm2d(256), nn.ReLU(), nn.Dropout(dropout),\n",
    "            nn.Conv2d(256, 256, 3, padding=1), nn.BatchNorm2d(256), nn.ReLU(), nn.Dropout(dropout),\n",
    "        )\n",
    "        self.lstm = nn.LSTM(input_size=256 * (configs.height // 4), hidden_size=hidden,\n",
    "                            num_layers=2, bidirectional=True, dropout=dropout, batch_first=True)\n",
    "        self.fc = nn.Linear(hidden * 2, vocab_size + 1)\n",
    "\n",
    "    def forward(self, x):\n",
    "        x = self.conv(x)\n",
    "        b, c, h, w = x.size()\n",
    "        x = x.permute(0, 3, 1, 2).reshape(b, w, c * h)\n",
    "        x, _ = self.lstm(x)\n",
    "        return self.fc(x).permute(1, 0, 2)\n",
    "\n",
    "model = CRNN(len(configs.vocab)).to(configs.device)\n",
    "criterion = nn.CTCLoss(blank=len(configs.vocab))\n",
    "optimizer = optim.Adam(model.parameters(), lr=configs.learning_rate)\n",
    "scheduler = optim.lr_scheduler.ReduceLROnPlateau(optimizer, 'min', patience=3, verbose=True)\n",
    "scaler = GradScaler()\n"
   ]
  },
  {
   "cell_type": "code",
   "execution_count": 5,
   "id": "c4beea66-9ea4-4c7f-929c-2ccd6b376b65",
   "metadata": {},
   "outputs": [
    {
     "data": {
      "application/vnd.jupyter.widget-view+json": {
       "model_id": "2e597928fddb432b8d8c5a8b7b8d02c5",
       "version_major": 2,
       "version_minor": 0
      },
      "text/plain": [
       "Epoch 1:   0%|          | 0/1459 [00:00<?, ?it/s]"
      ]
     },
     "metadata": {},
     "output_type": "display_data"
    },
    {
     "name": "stderr",
     "output_type": "stream",
     "text": [
      "C:\\Users\\mh738\\AppData\\Local\\Temp\\ipykernel_14152\\3538403117.py:10: FutureWarning: `torch.cuda.amp.autocast(args...)` is deprecated. Please use `torch.amp.autocast('cuda', args...)` instead.\n",
      "  with autocast():\n"
     ]
    },
    {
     "name": "stdout",
     "output_type": "stream",
     "text": [
      "[Epoch 1] Train Loss: 3.0983\n",
      "[Epoch 1] Val Loss: 2.3975\n",
      "✅ Best model saved.\n"
     ]
    },
    {
     "data": {
      "application/vnd.jupyter.widget-view+json": {
       "model_id": "d92b05ad17d84d1a8f4b3dd38cd0f7a8",
       "version_major": 2,
       "version_minor": 0
      },
      "text/plain": [
       "Epoch 2:   0%|          | 0/1459 [00:00<?, ?it/s]"
      ]
     },
     "metadata": {},
     "output_type": "display_data"
    },
    {
     "name": "stdout",
     "output_type": "stream",
     "text": [
      "[Epoch 2] Train Loss: 1.6307\n",
      "[Epoch 2] Val Loss: 1.2358\n",
      "✅ Best model saved.\n"
     ]
    },
    {
     "data": {
      "application/vnd.jupyter.widget-view+json": {
       "model_id": "248c83fb5e914da1acbb1c24f986fe0b",
       "version_major": 2,
       "version_minor": 0
      },
      "text/plain": [
       "Epoch 3:   0%|          | 0/1459 [00:00<?, ?it/s]"
      ]
     },
     "metadata": {},
     "output_type": "display_data"
    },
    {
     "name": "stdout",
     "output_type": "stream",
     "text": [
      "[Epoch 3] Train Loss: 0.9913\n",
      "[Epoch 3] Val Loss: 0.9313\n",
      "✅ Best model saved.\n"
     ]
    },
    {
     "data": {
      "application/vnd.jupyter.widget-view+json": {
       "model_id": "1bdaa64a29f64928845f5e7621e41ee8",
       "version_major": 2,
       "version_minor": 0
      },
      "text/plain": [
       "Epoch 4:   0%|          | 0/1459 [00:00<?, ?it/s]"
      ]
     },
     "metadata": {},
     "output_type": "display_data"
    },
    {
     "name": "stdout",
     "output_type": "stream",
     "text": [
      "[Epoch 4] Train Loss: 0.7814\n",
      "[Epoch 4] Val Loss: 0.9026\n",
      "✅ Best model saved.\n"
     ]
    },
    {
     "data": {
      "application/vnd.jupyter.widget-view+json": {
       "model_id": "b9108097eb3e44948fe50129f84e23a3",
       "version_major": 2,
       "version_minor": 0
      },
      "text/plain": [
       "Epoch 5:   0%|          | 0/1459 [00:00<?, ?it/s]"
      ]
     },
     "metadata": {},
     "output_type": "display_data"
    },
    {
     "name": "stdout",
     "output_type": "stream",
     "text": [
      "[Epoch 5] Train Loss: 0.6780\n",
      "[Epoch 5] Val Loss: 0.8951\n",
      "✅ Best model saved.\n"
     ]
    },
    {
     "data": {
      "application/vnd.jupyter.widget-view+json": {
       "model_id": "5c2c92498927482fb2f96ede9182d4da",
       "version_major": 2,
       "version_minor": 0
      },
      "text/plain": [
       "Epoch 6:   0%|          | 0/1459 [00:00<?, ?it/s]"
      ]
     },
     "metadata": {},
     "output_type": "display_data"
    },
    {
     "name": "stdout",
     "output_type": "stream",
     "text": [
      "[Epoch 6] Train Loss: 0.5992\n",
      "[Epoch 6] Val Loss: 0.6864\n",
      "✅ Best model saved.\n"
     ]
    },
    {
     "data": {
      "application/vnd.jupyter.widget-view+json": {
       "model_id": "20d6b0b84fa44e15851060d617fc92a1",
       "version_major": 2,
       "version_minor": 0
      },
      "text/plain": [
       "Epoch 7:   0%|          | 0/1459 [00:00<?, ?it/s]"
      ]
     },
     "metadata": {},
     "output_type": "display_data"
    },
    {
     "name": "stdout",
     "output_type": "stream",
     "text": [
      "[Epoch 7] Train Loss: 0.5387\n",
      "[Epoch 7] Val Loss: 0.7655\n"
     ]
    },
    {
     "data": {
      "application/vnd.jupyter.widget-view+json": {
       "model_id": "cc50fbd04a8b4554bfd26cc3f4a4353a",
       "version_major": 2,
       "version_minor": 0
      },
      "text/plain": [
       "Epoch 8:   0%|          | 0/1459 [00:00<?, ?it/s]"
      ]
     },
     "metadata": {},
     "output_type": "display_data"
    },
    {
     "name": "stdout",
     "output_type": "stream",
     "text": [
      "[Epoch 8] Train Loss: 0.5112\n",
      "[Epoch 8] Val Loss: 0.7410\n"
     ]
    },
    {
     "data": {
      "application/vnd.jupyter.widget-view+json": {
       "model_id": "7805d2b3e0f244529b0cadc44c259d8e",
       "version_major": 2,
       "version_minor": 0
      },
      "text/plain": [
       "Epoch 9:   0%|          | 0/1459 [00:00<?, ?it/s]"
      ]
     },
     "metadata": {},
     "output_type": "display_data"
    },
    {
     "name": "stdout",
     "output_type": "stream",
     "text": [
      "[Epoch 9] Train Loss: 0.4705\n",
      "[Epoch 9] Val Loss: 0.6552\n",
      "✅ Best model saved.\n"
     ]
    },
    {
     "data": {
      "application/vnd.jupyter.widget-view+json": {
       "model_id": "d1f90e5f713f4841a0bba2e7ade49dbf",
       "version_major": 2,
       "version_minor": 0
      },
      "text/plain": [
       "Epoch 10:   0%|          | 0/1459 [00:00<?, ?it/s]"
      ]
     },
     "metadata": {},
     "output_type": "display_data"
    },
    {
     "name": "stdout",
     "output_type": "stream",
     "text": [
      "[Epoch 10] Train Loss: 0.4391\n",
      "[Epoch 10] Val Loss: 0.6203\n",
      "✅ Best model saved.\n"
     ]
    },
    {
     "data": {
      "application/vnd.jupyter.widget-view+json": {
       "model_id": "f987d36fc1e34ea99d8655d0e986fdec",
       "version_major": 2,
       "version_minor": 0
      },
      "text/plain": [
       "Epoch 11:   0%|          | 0/1459 [00:00<?, ?it/s]"
      ]
     },
     "metadata": {},
     "output_type": "display_data"
    },
    {
     "name": "stdout",
     "output_type": "stream",
     "text": [
      "[Epoch 11] Train Loss: 0.4122\n",
      "[Epoch 11] Val Loss: 0.6345\n"
     ]
    },
    {
     "data": {
      "application/vnd.jupyter.widget-view+json": {
       "model_id": "4b01bfc00c774d018b39192e74488b5b",
       "version_major": 2,
       "version_minor": 0
      },
      "text/plain": [
       "Epoch 12:   0%|          | 0/1459 [00:00<?, ?it/s]"
      ]
     },
     "metadata": {},
     "output_type": "display_data"
    },
    {
     "name": "stdout",
     "output_type": "stream",
     "text": [
      "[Epoch 12] Train Loss: 0.3941\n",
      "[Epoch 12] Val Loss: 0.5992\n",
      "✅ Best model saved.\n"
     ]
    },
    {
     "data": {
      "application/vnd.jupyter.widget-view+json": {
       "model_id": "55ef34cf4be245baa4f86322cba916af",
       "version_major": 2,
       "version_minor": 0
      },
      "text/plain": [
       "Epoch 13:   0%|          | 0/1459 [00:00<?, ?it/s]"
      ]
     },
     "metadata": {},
     "output_type": "display_data"
    },
    {
     "name": "stdout",
     "output_type": "stream",
     "text": [
      "[Epoch 13] Train Loss: 0.3696\n",
      "[Epoch 13] Val Loss: 0.5343\n",
      "✅ Best model saved.\n"
     ]
    },
    {
     "data": {
      "application/vnd.jupyter.widget-view+json": {
       "model_id": "07a7f3c8382444939d7254aa6b499222",
       "version_major": 2,
       "version_minor": 0
      },
      "text/plain": [
       "Epoch 14:   0%|          | 0/1459 [00:00<?, ?it/s]"
      ]
     },
     "metadata": {},
     "output_type": "display_data"
    },
    {
     "name": "stdout",
     "output_type": "stream",
     "text": [
      "[Epoch 14] Train Loss: 0.3559\n",
      "[Epoch 14] Val Loss: 0.5572\n"
     ]
    },
    {
     "data": {
      "application/vnd.jupyter.widget-view+json": {
       "model_id": "579bdc285b0e44f5968a4686fe301d9c",
       "version_major": 2,
       "version_minor": 0
      },
      "text/plain": [
       "Epoch 15:   0%|          | 0/1459 [00:00<?, ?it/s]"
      ]
     },
     "metadata": {},
     "output_type": "display_data"
    },
    {
     "name": "stdout",
     "output_type": "stream",
     "text": [
      "[Epoch 15] Train Loss: 0.3496\n",
      "[Epoch 15] Val Loss: 0.4830\n",
      "✅ Best model saved.\n"
     ]
    },
    {
     "data": {
      "application/vnd.jupyter.widget-view+json": {
       "model_id": "d690bf6de9494e1586b8e30448980be7",
       "version_major": 2,
       "version_minor": 0
      },
      "text/plain": [
       "Epoch 16:   0%|          | 0/1459 [00:00<?, ?it/s]"
      ]
     },
     "metadata": {},
     "output_type": "display_data"
    },
    {
     "name": "stdout",
     "output_type": "stream",
     "text": [
      "[Epoch 16] Train Loss: 0.3244\n",
      "[Epoch 16] Val Loss: 0.4800\n",
      "✅ Best model saved.\n"
     ]
    },
    {
     "data": {
      "application/vnd.jupyter.widget-view+json": {
       "model_id": "b9fdfde92d50459fbca0db8f92d7ba84",
       "version_major": 2,
       "version_minor": 0
      },
      "text/plain": [
       "Epoch 17:   0%|          | 0/1459 [00:00<?, ?it/s]"
      ]
     },
     "metadata": {},
     "output_type": "display_data"
    },
    {
     "name": "stdout",
     "output_type": "stream",
     "text": [
      "[Epoch 17] Train Loss: 0.3102\n",
      "[Epoch 17] Val Loss: 0.4907\n"
     ]
    },
    {
     "data": {
      "application/vnd.jupyter.widget-view+json": {
       "model_id": "73509831809346c3a76ce84fce2f2363",
       "version_major": 2,
       "version_minor": 0
      },
      "text/plain": [
       "Epoch 18:   0%|          | 0/1459 [00:00<?, ?it/s]"
      ]
     },
     "metadata": {},
     "output_type": "display_data"
    },
    {
     "name": "stdout",
     "output_type": "stream",
     "text": [
      "[Epoch 18] Train Loss: 0.2939\n",
      "[Epoch 18] Val Loss: 0.5281\n"
     ]
    },
    {
     "data": {
      "application/vnd.jupyter.widget-view+json": {
       "model_id": "d283a677116a488a95396c258cc41b76",
       "version_major": 2,
       "version_minor": 0
      },
      "text/plain": [
       "Epoch 19:   0%|          | 0/1459 [00:00<?, ?it/s]"
      ]
     },
     "metadata": {},
     "output_type": "display_data"
    },
    {
     "name": "stdout",
     "output_type": "stream",
     "text": [
      "[Epoch 19] Train Loss: 0.2861\n",
      "[Epoch 19] Val Loss: 0.4569\n",
      "✅ Best model saved.\n"
     ]
    },
    {
     "data": {
      "application/vnd.jupyter.widget-view+json": {
       "model_id": "d22d0317bb3243799647d65a39effb99",
       "version_major": 2,
       "version_minor": 0
      },
      "text/plain": [
       "Epoch 20:   0%|          | 0/1459 [00:00<?, ?it/s]"
      ]
     },
     "metadata": {},
     "output_type": "display_data"
    },
    {
     "name": "stdout",
     "output_type": "stream",
     "text": [
      "[Epoch 20] Train Loss: 0.2748\n",
      "[Epoch 20] Val Loss: 0.4884\n"
     ]
    },
    {
     "data": {
      "application/vnd.jupyter.widget-view+json": {
       "model_id": "2e8a1bddeeb84d698b25ce29761b1d4d",
       "version_major": 2,
       "version_minor": 0
      },
      "text/plain": [
       "Epoch 21:   0%|          | 0/1459 [00:00<?, ?it/s]"
      ]
     },
     "metadata": {},
     "output_type": "display_data"
    },
    {
     "name": "stdout",
     "output_type": "stream",
     "text": [
      "[Epoch 21] Train Loss: 0.2700\n",
      "[Epoch 21] Val Loss: 0.4720\n"
     ]
    },
    {
     "data": {
      "application/vnd.jupyter.widget-view+json": {
       "model_id": "ecdc90f430fc49fcaae046b5d9bd50ba",
       "version_major": 2,
       "version_minor": 0
      },
      "text/plain": [
       "Epoch 22:   0%|          | 0/1459 [00:00<?, ?it/s]"
      ]
     },
     "metadata": {},
     "output_type": "display_data"
    },
    {
     "name": "stdout",
     "output_type": "stream",
     "text": [
      "[Epoch 22] Train Loss: 0.2591\n",
      "[Epoch 22] Val Loss: 0.5144\n"
     ]
    },
    {
     "data": {
      "application/vnd.jupyter.widget-view+json": {
       "model_id": "36ed19be0ffb4691ba3f1d874e4b8aa9",
       "version_major": 2,
       "version_minor": 0
      },
      "text/plain": [
       "Epoch 23:   0%|          | 0/1459 [00:00<?, ?it/s]"
      ]
     },
     "metadata": {},
     "output_type": "display_data"
    },
    {
     "name": "stdout",
     "output_type": "stream",
     "text": [
      "[Epoch 23] Train Loss: 0.2496\n",
      "[Epoch 23] Val Loss: 0.4934\n"
     ]
    },
    {
     "data": {
      "application/vnd.jupyter.widget-view+json": {
       "model_id": "4ee5e3241d7e4f95b70db5da679f8cfa",
       "version_major": 2,
       "version_minor": 0
      },
      "text/plain": [
       "Epoch 24:   0%|          | 0/1459 [00:00<?, ?it/s]"
      ]
     },
     "metadata": {},
     "output_type": "display_data"
    },
    {
     "name": "stdout",
     "output_type": "stream",
     "text": [
      "[Epoch 24] Train Loss: 0.2155\n",
      "[Epoch 24] Val Loss: 0.4265\n",
      "✅ Best model saved.\n"
     ]
    },
    {
     "data": {
      "application/vnd.jupyter.widget-view+json": {
       "model_id": "27d9a49e0b21436c88330ad689f0b111",
       "version_major": 2,
       "version_minor": 0
      },
      "text/plain": [
       "Epoch 25:   0%|          | 0/1459 [00:00<?, ?it/s]"
      ]
     },
     "metadata": {},
     "output_type": "display_data"
    },
    {
     "name": "stdout",
     "output_type": "stream",
     "text": [
      "[Epoch 25] Train Loss: 0.1931\n",
      "[Epoch 25] Val Loss: 0.4366\n"
     ]
    },
    {
     "data": {
      "application/vnd.jupyter.widget-view+json": {
       "model_id": "15d5a03b532e4f3799430022494178a8",
       "version_major": 2,
       "version_minor": 0
      },
      "text/plain": [
       "Epoch 26:   0%|          | 0/1459 [00:00<?, ?it/s]"
      ]
     },
     "metadata": {},
     "output_type": "display_data"
    },
    {
     "name": "stdout",
     "output_type": "stream",
     "text": [
      "[Epoch 26] Train Loss: 0.1951\n",
      "[Epoch 26] Val Loss: 0.4711\n"
     ]
    },
    {
     "data": {
      "application/vnd.jupyter.widget-view+json": {
       "model_id": "233a7b991ce6495589c3ffb457a815b8",
       "version_major": 2,
       "version_minor": 0
      },
      "text/plain": [
       "Epoch 27:   0%|          | 0/1459 [00:00<?, ?it/s]"
      ]
     },
     "metadata": {},
     "output_type": "display_data"
    },
    {
     "name": "stdout",
     "output_type": "stream",
     "text": [
      "[Epoch 27] Train Loss: 0.1882\n",
      "[Epoch 27] Val Loss: 0.4559\n"
     ]
    },
    {
     "data": {
      "application/vnd.jupyter.widget-view+json": {
       "model_id": "be743a95a05542d486fd4b30bfa2fda1",
       "version_major": 2,
       "version_minor": 0
      },
      "text/plain": [
       "Epoch 28:   0%|          | 0/1459 [00:00<?, ?it/s]"
      ]
     },
     "metadata": {},
     "output_type": "display_data"
    },
    {
     "name": "stdout",
     "output_type": "stream",
     "text": [
      "[Epoch 28] Train Loss: 0.1806\n",
      "[Epoch 28] Val Loss: 0.4701\n"
     ]
    },
    {
     "data": {
      "application/vnd.jupyter.widget-view+json": {
       "model_id": "c32e2fa44fea413590b9bf40a565f49f",
       "version_major": 2,
       "version_minor": 0
      },
      "text/plain": [
       "Epoch 29:   0%|          | 0/1459 [00:00<?, ?it/s]"
      ]
     },
     "metadata": {},
     "output_type": "display_data"
    },
    {
     "name": "stdout",
     "output_type": "stream",
     "text": [
      "[Epoch 29] Train Loss: 0.1751\n",
      "[Epoch 29] Val Loss: 0.4320\n"
     ]
    },
    {
     "data": {
      "application/vnd.jupyter.widget-view+json": {
       "model_id": "2e3cc4eb43744312b849458f52e6ba17",
       "version_major": 2,
       "version_minor": 0
      },
      "text/plain": [
       "Epoch 30:   0%|          | 0/1459 [00:00<?, ?it/s]"
      ]
     },
     "metadata": {},
     "output_type": "display_data"
    },
    {
     "name": "stdout",
     "output_type": "stream",
     "text": [
      "[Epoch 30] Train Loss: 0.1753\n",
      "[Epoch 30] Val Loss: 0.4450\n"
     ]
    },
    {
     "data": {
      "application/vnd.jupyter.widget-view+json": {
       "model_id": "d6ff9889b4f0480fb2be4ddbb3fc40c3",
       "version_major": 2,
       "version_minor": 0
      },
      "text/plain": [
       "Epoch 31:   0%|          | 0/1459 [00:00<?, ?it/s]"
      ]
     },
     "metadata": {},
     "output_type": "display_data"
    },
    {
     "name": "stdout",
     "output_type": "stream",
     "text": [
      "[Epoch 31] Train Loss: 0.1828\n",
      "[Epoch 31] Val Loss: 0.4438\n"
     ]
    },
    {
     "data": {
      "application/vnd.jupyter.widget-view+json": {
       "model_id": "82191bfe92d845409c60bf0897436792",
       "version_major": 2,
       "version_minor": 0
      },
      "text/plain": [
       "Epoch 32:   0%|          | 0/1459 [00:00<?, ?it/s]"
      ]
     },
     "metadata": {},
     "output_type": "display_data"
    },
    {
     "name": "stdout",
     "output_type": "stream",
     "text": [
      "[Epoch 32] Train Loss: 0.1776\n",
      "[Epoch 32] Val Loss: 0.4426\n"
     ]
    },
    {
     "data": {
      "application/vnd.jupyter.widget-view+json": {
       "model_id": "a7aabb3576584b2fa005fd3870db4edf",
       "version_major": 2,
       "version_minor": 0
      },
      "text/plain": [
       "Epoch 33:   0%|          | 0/1459 [00:00<?, ?it/s]"
      ]
     },
     "metadata": {},
     "output_type": "display_data"
    },
    {
     "name": "stdout",
     "output_type": "stream",
     "text": [
      "[Epoch 33] Train Loss: 0.1797\n",
      "[Epoch 33] Val Loss: 0.4638\n"
     ]
    },
    {
     "data": {
      "application/vnd.jupyter.widget-view+json": {
       "model_id": "188c59699cfe4cd4be6e9c5c3e62d204",
       "version_major": 2,
       "version_minor": 0
      },
      "text/plain": [
       "Epoch 34:   0%|          | 0/1459 [00:00<?, ?it/s]"
      ]
     },
     "metadata": {},
     "output_type": "display_data"
    },
    {
     "name": "stdout",
     "output_type": "stream",
     "text": [
      "[Epoch 34] Train Loss: 0.1797\n",
      "[Epoch 34] Val Loss: 0.4330\n"
     ]
    },
    {
     "data": {
      "application/vnd.jupyter.widget-view+json": {
       "model_id": "b15fc6fd3b82406693cea600941e81e4",
       "version_major": 2,
       "version_minor": 0
      },
      "text/plain": [
       "Epoch 35:   0%|          | 0/1459 [00:00<?, ?it/s]"
      ]
     },
     "metadata": {},
     "output_type": "display_data"
    },
    {
     "name": "stdout",
     "output_type": "stream",
     "text": [
      "[Epoch 35] Train Loss: 0.1796\n",
      "[Epoch 35] Val Loss: 0.4357\n"
     ]
    },
    {
     "data": {
      "application/vnd.jupyter.widget-view+json": {
       "model_id": "31492784ea3e4e7da311e97a5a6b3ef2",
       "version_major": 2,
       "version_minor": 0
      },
      "text/plain": [
       "Epoch 36:   0%|          | 0/1459 [00:00<?, ?it/s]"
      ]
     },
     "metadata": {},
     "output_type": "display_data"
    },
    {
     "name": "stdout",
     "output_type": "stream",
     "text": [
      "[Epoch 36] Train Loss: 0.1764\n",
      "[Epoch 36] Val Loss: 0.4451\n"
     ]
    },
    {
     "data": {
      "application/vnd.jupyter.widget-view+json": {
       "model_id": "e568accfa64846e5a4158b0e8a157a10",
       "version_major": 2,
       "version_minor": 0
      },
      "text/plain": [
       "Epoch 37:   0%|          | 0/1459 [00:00<?, ?it/s]"
      ]
     },
     "metadata": {},
     "output_type": "display_data"
    },
    {
     "name": "stdout",
     "output_type": "stream",
     "text": [
      "[Epoch 37] Train Loss: 0.1775\n",
      "[Epoch 37] Val Loss: 0.4478\n"
     ]
    },
    {
     "data": {
      "application/vnd.jupyter.widget-view+json": {
       "model_id": "ea82294d7d654442b644e3e8d9e39b53",
       "version_major": 2,
       "version_minor": 0
      },
      "text/plain": [
       "Epoch 38:   0%|          | 0/1459 [00:00<?, ?it/s]"
      ]
     },
     "metadata": {},
     "output_type": "display_data"
    },
    {
     "name": "stdout",
     "output_type": "stream",
     "text": [
      "[Epoch 38] Train Loss: 0.1815\n",
      "[Epoch 38] Val Loss: 0.4633\n"
     ]
    },
    {
     "data": {
      "application/vnd.jupyter.widget-view+json": {
       "model_id": "93a89581263b4611afe5c67dc4cf5252",
       "version_major": 2,
       "version_minor": 0
      },
      "text/plain": [
       "Epoch 39:   0%|          | 0/1459 [00:00<?, ?it/s]"
      ]
     },
     "metadata": {},
     "output_type": "display_data"
    },
    {
     "name": "stdout",
     "output_type": "stream",
     "text": [
      "[Epoch 39] Train Loss: 0.1829\n",
      "[Epoch 39] Val Loss: 0.4530\n"
     ]
    },
    {
     "data": {
      "application/vnd.jupyter.widget-view+json": {
       "model_id": "5bcb79a41f3a4ba58da33f887e89716d",
       "version_major": 2,
       "version_minor": 0
      },
      "text/plain": [
       "Epoch 40:   0%|          | 0/1459 [00:00<?, ?it/s]"
      ]
     },
     "metadata": {},
     "output_type": "display_data"
    },
    {
     "name": "stdout",
     "output_type": "stream",
     "text": [
      "[Epoch 40] Train Loss: 0.1763\n",
      "[Epoch 40] Val Loss: 0.4288\n"
     ]
    },
    {
     "data": {
      "application/vnd.jupyter.widget-view+json": {
       "model_id": "d1ab15cc10d447cc8b58f2fe7d4521a0",
       "version_major": 2,
       "version_minor": 0
      },
      "text/plain": [
       "Epoch 41:   0%|          | 0/1459 [00:00<?, ?it/s]"
      ]
     },
     "metadata": {},
     "output_type": "display_data"
    },
    {
     "name": "stdout",
     "output_type": "stream",
     "text": [
      "[Epoch 41] Train Loss: 0.1724\n",
      "[Epoch 41] Val Loss: 0.4327\n"
     ]
    },
    {
     "data": {
      "application/vnd.jupyter.widget-view+json": {
       "model_id": "7e9c7f5194e34d01be46f68c1c3315de",
       "version_major": 2,
       "version_minor": 0
      },
      "text/plain": [
       "Epoch 42:   0%|          | 0/1459 [00:00<?, ?it/s]"
      ]
     },
     "metadata": {},
     "output_type": "display_data"
    },
    {
     "name": "stdout",
     "output_type": "stream",
     "text": [
      "[Epoch 42] Train Loss: 0.1741\n",
      "[Epoch 42] Val Loss: 0.4283\n"
     ]
    },
    {
     "data": {
      "application/vnd.jupyter.widget-view+json": {
       "model_id": "14a290d5bb754c1994728c752b22955d",
       "version_major": 2,
       "version_minor": 0
      },
      "text/plain": [
       "Epoch 43:   0%|          | 0/1459 [00:00<?, ?it/s]"
      ]
     },
     "metadata": {},
     "output_type": "display_data"
    },
    {
     "name": "stdout",
     "output_type": "stream",
     "text": [
      "[Epoch 43] Train Loss: 0.1779\n",
      "[Epoch 43] Val Loss: 0.4543\n"
     ]
    },
    {
     "data": {
      "application/vnd.jupyter.widget-view+json": {
       "model_id": "6cd47e4915a04e96baa4d02b73096293",
       "version_major": 2,
       "version_minor": 0
      },
      "text/plain": [
       "Epoch 44:   0%|          | 0/1459 [00:00<?, ?it/s]"
      ]
     },
     "metadata": {},
     "output_type": "display_data"
    },
    {
     "name": "stdout",
     "output_type": "stream",
     "text": [
      "[Epoch 44] Train Loss: 0.1731\n",
      "[Epoch 44] Val Loss: 0.4386\n"
     ]
    },
    {
     "data": {
      "application/vnd.jupyter.widget-view+json": {
       "model_id": "703f725209a341779c3487d6e3d8c2f9",
       "version_major": 2,
       "version_minor": 0
      },
      "text/plain": [
       "Epoch 45:   0%|          | 0/1459 [00:00<?, ?it/s]"
      ]
     },
     "metadata": {},
     "output_type": "display_data"
    },
    {
     "name": "stdout",
     "output_type": "stream",
     "text": [
      "[Epoch 45] Train Loss: 0.1736\n",
      "[Epoch 45] Val Loss: 0.4659\n"
     ]
    },
    {
     "data": {
      "application/vnd.jupyter.widget-view+json": {
       "model_id": "d1d101cf4b55445db392e51cc1e1b623",
       "version_major": 2,
       "version_minor": 0
      },
      "text/plain": [
       "Epoch 46:   0%|          | 0/1459 [00:00<?, ?it/s]"
      ]
     },
     "metadata": {},
     "output_type": "display_data"
    },
    {
     "name": "stdout",
     "output_type": "stream",
     "text": [
      "[Epoch 46] Train Loss: 0.1809\n",
      "[Epoch 46] Val Loss: 0.4452\n"
     ]
    },
    {
     "data": {
      "application/vnd.jupyter.widget-view+json": {
       "model_id": "574c3f302427463d9d5ec0c46775aee8",
       "version_major": 2,
       "version_minor": 0
      },
      "text/plain": [
       "Epoch 47:   0%|          | 0/1459 [00:00<?, ?it/s]"
      ]
     },
     "metadata": {},
     "output_type": "display_data"
    },
    {
     "name": "stdout",
     "output_type": "stream",
     "text": [
      "[Epoch 47] Train Loss: 0.1789\n",
      "[Epoch 47] Val Loss: 0.4337\n"
     ]
    },
    {
     "data": {
      "application/vnd.jupyter.widget-view+json": {
       "model_id": "ae0e46c59b4b4d1d99872ae070b52a74",
       "version_major": 2,
       "version_minor": 0
      },
      "text/plain": [
       "Epoch 48:   0%|          | 0/1459 [00:00<?, ?it/s]"
      ]
     },
     "metadata": {},
     "output_type": "display_data"
    },
    {
     "name": "stdout",
     "output_type": "stream",
     "text": [
      "[Epoch 48] Train Loss: 0.1783\n",
      "[Epoch 48] Val Loss: 0.4230\n",
      "✅ Best model saved.\n"
     ]
    },
    {
     "data": {
      "application/vnd.jupyter.widget-view+json": {
       "model_id": "56c984e310a04085a4d0c89886116d7f",
       "version_major": 2,
       "version_minor": 0
      },
      "text/plain": [
       "Epoch 49:   0%|          | 0/1459 [00:00<?, ?it/s]"
      ]
     },
     "metadata": {},
     "output_type": "display_data"
    },
    {
     "name": "stdout",
     "output_type": "stream",
     "text": [
      "[Epoch 49] Train Loss: 0.1808\n",
      "[Epoch 49] Val Loss: 0.4573\n"
     ]
    },
    {
     "data": {
      "application/vnd.jupyter.widget-view+json": {
       "model_id": "5679c3a1f0a94976a6932504f3c6af8b",
       "version_major": 2,
       "version_minor": 0
      },
      "text/plain": [
       "Epoch 50:   0%|          | 0/1459 [00:00<?, ?it/s]"
      ]
     },
     "metadata": {},
     "output_type": "display_data"
    },
    {
     "name": "stdout",
     "output_type": "stream",
     "text": [
      "[Epoch 50] Train Loss: 0.1776\n",
      "[Epoch 50] Val Loss: 0.4368\n"
     ]
    }
   ],
   "source": [
    "def train(model, train_loader, val_loader, configs):\n",
    "    best_val = float(\"inf\")\n",
    "    for epoch in range(1, configs.train_epochs + 1):\n",
    "        model.train()\n",
    "        total_loss = 0\n",
    "        for images, labels, label_lens in tqdm(train_loader, desc=f\"Epoch {epoch}\"):\n",
    "            images, labels = images.to(configs.device), labels.to(configs.device)\n",
    "            label_lens = label_lens.to(configs.device)\n",
    "            optimizer.zero_grad(set_to_none=True)\n",
    "            with autocast():\n",
    "                output = model(images)\n",
    "                input_lens = torch.full((output.size(1),), output.size(0), dtype=torch.long).to(configs.device)\n",
    "                log_probs = F.log_softmax(output, dim=2)\n",
    "                loss = criterion(log_probs, labels, input_lens, label_lens)\n",
    "            scaler.scale(loss).backward()\n",
    "            scaler.step(optimizer)\n",
    "            scaler.update()\n",
    "            total_loss += loss.item()\n",
    "        print(f\"[Epoch {epoch}] Train Loss: {total_loss / len(train_loader):.4f}\")\n",
    "\n",
    "        # Validation\n",
    "        model.eval()\n",
    "        with torch.no_grad():\n",
    "            val_loss = 0\n",
    "            for images, labels, label_lens in val_loader:\n",
    "                images, labels = images.to(configs.device), labels.to(configs.device)\n",
    "                label_lens = label_lens.to(configs.device)\n",
    "                output = model(images)\n",
    "                input_lens = torch.full((output.size(1),), output.size(0), dtype=torch.long).to(configs.device)\n",
    "                log_probs = F.log_softmax(output, dim=2)\n",
    "                loss = criterion(log_probs, labels, input_lens, label_lens)\n",
    "                val_loss += loss.item()\n",
    "        val_loss /= len(val_loader)\n",
    "        print(f\"[Epoch {epoch}] Val Loss: {val_loss:.4f}\")\n",
    "        scheduler.step(val_loss)\n",
    "        if val_loss < best_val:\n",
    "            best_val = val_loss\n",
    "            torch.save(model.state_dict(), os.path.join(configs.model_path, \"best_model.pth\"))\n",
    "            print(\"✅ Best model saved.\")\n",
    "\n",
    "train(model, train_loader, val_loader, configs)\n"
   ]
  },
  {
   "cell_type": "code",
   "execution_count": 6,
   "id": "8116d017-b325-4d0d-ae44-108d17ab76a8",
   "metadata": {},
   "outputs": [],
   "source": [
    "def predict_image(image_path, model, configs, transform):\n",
    "    model.eval()\n",
    "    idx_to_char = {i: ch for i, ch in enumerate(configs.vocab)}\n",
    "    blank_idx = len(configs.vocab)\n",
    "\n",
    "    image = Image.open(image_path).convert(\"L\")\n",
    "    image = transform(image)\n",
    "    image = image.unsqueeze(0).to(configs.device)  # (1, 1, H, W)\n",
    "\n",
    "    with torch.no_grad():\n",
    "        output = model(image)\n",
    "        log_probs = F.log_softmax(output, dim=2)\n",
    "        pred = torch.argmax(log_probs, dim=2)  # (T, 1)\n",
    "        pred = pred.squeeze(1).tolist()\n",
    "\n",
    "        decoded = []\n",
    "        prev_token = None\n",
    "        for t in pred:\n",
    "            if t != blank_idx and t != prev_token:\n",
    "                decoded.append(idx_to_char[t])\n",
    "            prev_token = t\n",
    "        return \"\".join(decoded)\n"
   ]
  },
  {
   "cell_type": "code",
   "execution_count": 12,
   "id": "06e1e566-7eb4-408c-b125-44c157593444",
   "metadata": {},
   "outputs": [
    {
     "name": "stdout",
     "output_type": "stream",
     "text": [
      "✅ Model loaded.\n",
      "📝 Predicted Text: Family\n"
     ]
    }
   ],
   "source": [
    "# Rebuild and load model\n",
    "loaded_model = CRNN(len(configs.vocab)).to(configs.device)\n",
    "loaded_model.load_state_dict(torch.load(os.path.join(configs.model_path, \"best_model.pth\"), map_location=configs.device))\n",
    "print(\"✅ Model loaded.\")\n",
    "\n",
    "# Predict an image\n",
    "test_image_path = r\"C:\\Users\\mh738\\Downloads\\images (2).png\"  # Or path to your own image\n",
    "prediction = predict_image(test_image_path, loaded_model, configs, transform)\n",
    "print(f\"📝 Predicted Text: {prediction}\")\n"
   ]
  },
  {
   "cell_type": "code",
   "execution_count": 29,
   "id": "1cb5096f-4e6d-4827-80c8-09c8ef8e2c11",
   "metadata": {},
   "outputs": [
    {
     "name": "stdout",
     "output_type": "stream",
     "text": [
      "TorchScript model saved at: Models/CRNN\\202506090621\\model_scripted.pt\n"
     ]
    }
   ],
   "source": [
    "# TorchScript export\n",
    "example_input = torch.randn(1, 1, configs.height, 512).to(configs.device)\n",
    "traced_model = torch.jit.trace(loaded_model, example_input)\n",
    "torchscript_path = os.path.join(configs.model_path, \"model_scripted.pt\")\n",
    "traced_model.save(torchscript_path)\n",
    "print(f\"TorchScript model saved at: {torchscript_path}\")\n"
   ]
  },
  {
   "cell_type": "code",
   "execution_count": 35,
   "id": "2314e9ee-9cfb-4c7c-a542-19db9665e0ce",
   "metadata": {},
   "outputs": [
    {
     "name": "stdout",
     "output_type": "stream",
     "text": [
      "ONNX model saved at: Models/CRNN\\202506090621\\model.onnx\n"
     ]
    }
   ],
   "source": [
    "# ONNX export\n",
    "onnx_path = os.path.join(configs.model_path, \"model.onnx\")\n",
    "torch.onnx.export(\n",
    "    loaded_model, \n",
    "    example_input, \n",
    "    onnx_path,\n",
    "    input_names=[\"input\"], \n",
    "    output_names=[\"output\"], \n",
    "    dynamic_axes={\"input\": {0: \"batch_size\", 3: \"width\"}},\n",
    "    opset_version=11\n",
    ")\n",
    "print(f\"ONNX model saved at: {onnx_path}\")\n"
   ]
  },
  {
   "cell_type": "code",
   "execution_count": 42,
   "id": "6dddd869-e538-4bc5-9923-0eb8249d4a89",
   "metadata": {},
   "outputs": [],
   "source": [
    "import torch\n",
    "from PIL import Image\n",
    "import torchvision.transforms as transforms\n",
    "\n",
    "# Load TorchScript model\n",
    "model = torch.jit.load(r\"Models/CRNN\\202506090621\\model_scripted.pt\")\n",
    "\n",
    "model.eval()\n",
    "\n",
    "# Define the transform same as used in training\n",
    "transform = transforms.Compose([\n",
    "    transforms.Grayscale(1),\n",
    "    transforms.Resize((64, 512)),  # Or ResizeKeepAspect if needed\n",
    "    transforms.ToTensor()\n",
    "])\n",
    "\n",
    "def predict_image(image_path):\n",
    "    image = Image.open(image_path).convert(\"L\")\n",
    "    image = transform(image).unsqueeze(0)\n",
    "    with torch.no_grad():\n",
    "        output = model(image)\n",
    "    pred = output.argmax(dim=2).squeeze().tolist()\n",
    "    return pred  # decode this to characters using your vocab\n"
   ]
  },
  {
   "cell_type": "code",
   "execution_count": 13,
   "id": "d14ae58f-dcda-49f3-bdbf-052819902577",
   "metadata": {},
   "outputs": [
    {
     "name": "stdout",
     "output_type": "stream",
     "text": [
      "✅ Model loaded\n"
     ]
    }
   ],
   "source": [
    "import tkinter as tk\n",
    "from tkinter import filedialog, messagebox\n",
    "from PIL import Image, ImageTk\n",
    "import torch\n",
    "import torchvision.transforms as transforms\n",
    "\n",
    "# Load TorchScript model\n",
    "model_path = r\"Models/CRNN/202506090621/model_scripted.pt\"\n",
    "device = \"cuda\" if torch.cuda.is_available() else \"cpu\"\n",
    "\n",
    "try:\n",
    "    model = torch.jit.load(model_path, map_location=device)\n",
    "    model.eval()\n",
    "    print(\"✅ Model loaded\")\n",
    "except Exception as e:\n",
    "    print(\"❌ Error loading model:\", e)\n",
    "    exit()\n",
    "\n",
    "# Set vocabulary (same used during training)\n",
    "vocab = \" !\\\"#&'()*+,-./0123456789:;?ABCDEFGHIJKLMNOPQRSTUVWXYZabcdefghijklmnopqrstuvwxyz\"\n",
    "idx_to_char = {i: ch for i, ch in enumerate(vocab)}\n",
    "blank_idx = len(vocab)\n",
    "\n",
    "# Transform\n",
    "transform = transforms.Compose([\n",
    "    transforms.Grayscale(1),\n",
    "    transforms.Resize((64, 512)),\n",
    "    transforms.ToTensor()\n",
    "])\n",
    "\n",
    "# Predict\n",
    "def predict_image(path):\n",
    "    image = Image.open(path).convert(\"L\")\n",
    "    image = transform(image).unsqueeze(0).to(device)\n",
    "    with torch.no_grad():\n",
    "        output = model(image)\n",
    "        log_probs = torch.nn.functional.log_softmax(output, dim=2)\n",
    "        pred = torch.argmax(log_probs, dim=2).squeeze().tolist()\n",
    "\n",
    "        decoded = []\n",
    "        prev = -1\n",
    "        for i in pred:\n",
    "            if i != blank_idx and i != prev:\n",
    "                decoded.append(idx_to_char.get(i, \"\"))\n",
    "            prev = i\n",
    "        return \"\".join(decoded)\n",
    "\n",
    "# GUI\n",
    "class OCRApp:\n",
    "    def __init__(self, root):\n",
    "        self.root = root\n",
    "        self.root.title(\"Handwriting OCR App\")\n",
    "        self.root.geometry(\"800x700\")\n",
    "        self.root.configure(bg=\"white\")\n",
    "\n",
    "        self.image_path = None\n",
    "        self.predicted_text = \"\"\n",
    "\n",
    "        self.title = tk.Label(root, text=\"🖋️ Handwriting OCR\", font=(\"Arial\", 28, \"bold\"), bg=\"white\")\n",
    "        self.title.pack(pady=20)\n",
    "\n",
    "        self.canvas = tk.Label(root, bg=\"white\")\n",
    "        self.canvas.pack()\n",
    "\n",
    "        self.upload_btn = tk.Button(root, text=\"📁 Upload Image\", command=self.upload, font=(\"Arial\", 14), width=20)\n",
    "        self.upload_btn.pack(pady=10)\n",
    "\n",
    "        self.predict_btn = tk.Button(root, text=\"🔍 Predict Text\", command=self.predict, font=(\"Arial\", 14), bg=\"#ccffcc\", width=20)\n",
    "        self.predict_btn.pack(pady=5)\n",
    "\n",
    "        self.result = tk.Label(root, text=\"\", font=(\"Courier New\", 18), wraplength=700, justify=\"center\", bg=\"white\", fg=\"#222\")\n",
    "        self.result.pack(pady=20)\n",
    "\n",
    "        self.export_btn = tk.Button(root, text=\"📤 Export to File\", command=self.export_to_file, font=(\"Arial\", 12), bg=\"#e0e0ff\", width=18)\n",
    "        self.export_btn.pack(pady=5)\n",
    "\n",
    "        self.copy_btn = tk.Button(root, text=\"📋 Copy to Clipboard\", command=self.copy_to_clipboard, font=(\"Arial\", 12), bg=\"#ffd9b3\", width=18)\n",
    "        self.copy_btn.pack(pady=5)\n",
    "\n",
    "    def upload(self):\n",
    "        path = filedialog.askopenfilename(filetypes=[(\"Image files\", \"*.png *.jpg *.jpeg\")])\n",
    "        if path:\n",
    "            self.image_path = path\n",
    "            img = Image.open(path)\n",
    "            img = img.resize((400, 100))\n",
    "            self.tk_img = ImageTk.PhotoImage(img)\n",
    "            self.canvas.configure(image=self.tk_img)\n",
    "            self.result.config(text=\"\")\n",
    "            self.predicted_text = \"\"\n",
    "\n",
    "    def predict(self):\n",
    "        if not self.image_path:\n",
    "            self.result.config(text=\"❌ Please upload an image first.\")\n",
    "            return\n",
    "\n",
    "        try:\n",
    "            prediction = predict_image(self.image_path)\n",
    "            self.predicted_text = prediction\n",
    "            self.result.config(text=f\"📝 Predicted Text:\\n\\n{prediction}\")\n",
    "        except Exception as e:\n",
    "            print(\"❌ Prediction Error:\", e)\n",
    "            self.result.config(text=\"❌ An error occurred. Check the console.\")\n",
    "\n",
    "    def export_to_file(self):\n",
    "        if not self.predicted_text:\n",
    "            messagebox.showinfo(\"Info\", \"No text to export.\")\n",
    "            return\n",
    "        file_path = filedialog.asksaveasfilename(defaultextension=\".txt\", filetypes=[(\"Text Files\", \"*.txt\")])\n",
    "        if file_path:\n",
    "            with open(file_path, \"w\", encoding=\"utf-8\") as f:\n",
    "                f.write(self.predicted_text)\n",
    "            messagebox.showinfo(\"Success\", \"Text exported successfully!\")\n",
    "\n",
    "    def copy_to_clipboard(self):\n",
    "        if not self.predicted_text:\n",
    "            messagebox.showinfo(\"Info\", \"No text to copy.\")\n",
    "            return\n",
    "        self.root.clipboard_clear()\n",
    "        self.root.clipboard_append(self.predicted_text)\n",
    "        self.root.update()\n",
    "        messagebox.showinfo(\"Copied\", \"Text copied to clipboard!\")\n",
    "\n",
    "# Launch\n",
    "if __name__ == \"__main__\":\n",
    "    root = tk.Tk()\n",
    "    app = OCRApp(root)\n",
    "    root.mainloop()\n"
   ]
  },
  {
   "cell_type": "code",
   "execution_count": null,
   "id": "cd997817-dfca-4ea8-bb28-58596d7a56fb",
   "metadata": {},
   "outputs": [],
   "source": []
  }
 ],
 "metadata": {
  "kernelspec": {
   "display_name": "Python 3 (ipykernel)",
   "language": "python",
   "name": "python3"
  },
  "language_info": {
   "codemirror_mode": {
    "name": "ipython",
    "version": 3
   },
   "file_extension": ".py",
   "mimetype": "text/x-python",
   "name": "python",
   "nbconvert_exporter": "python",
   "pygments_lexer": "ipython3",
   "version": "3.12.8"
  }
 },
 "nbformat": 4,
 "nbformat_minor": 5
}
